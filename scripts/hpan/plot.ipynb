{
 "cells": [
  {
   "cell_type": "code",
   "execution_count": 1,
   "metadata": {},
   "outputs": [],
   "source": [
    "import numpy as np\n",
    "import pandas as pd\n",
    "import json_to_df as jd\n",
    "from sklearn.ensemble import RandomForestClassifier\n",
    "import matplotlib.pyplot as plt\n",
    "import matplotlib"
   ]
  },
  {
   "cell_type": "code",
   "execution_count": 2,
   "metadata": {},
   "outputs": [],
   "source": [
    "data1 = jd.json_to_df_exhaust(\"../raw_data/data1.json\")"
   ]
  },
  {
   "cell_type": "code",
   "execution_count": 3,
   "metadata": {},
   "outputs": [],
   "source": [
    "data1.fillna(0, inplace=True)\n",
    "stars = data1.stars.values\n",
    "data1_ = data1.drop(columns = [\"review_id\",\"stars\"])\n",
    "features2 = data1_.drop(columns=[\"Monday_open\", \"Monday_close\",\"Tuesday_open\", \"Tuesday_close\",\"Wednesday_open\", \n",
    "                                \"Wednesday_close\", \"Thursday_open\", \"Thursday_close\",\"Friday_open\", \"Friday_close\",\n",
    "                                \"Saturday_open\", \"Sunday_open\", \"Saturday_close\", \"Sunday_close\"]).values"
   ]
  },
  {
   "cell_type": "code",
   "execution_count": 4,
   "metadata": {},
   "outputs": [],
   "source": [
    "rf = RandomForestClassifier(n_estimators=100,criterion=\"gini\", max_depth=100,min_samples_split=5,min_samples_leaf=2,\n",
    "min_weight_fraction_leaf=0.0, max_features=\"sqrt\", max_leaf_nodes=None, min_impurity_decrease=0,\n",
    "min_impurity_split=None, bootstrap=True, oob_score=True, n_jobs=-1, random_state=None,\n",
    "verbose=True, warm_start=False, class_weight=None)"
   ]
  },
  {
   "cell_type": "code",
   "execution_count": 5,
   "metadata": {},
   "outputs": [
    {
     "name": "stderr",
     "output_type": "stream",
     "text": [
      "[Parallel(n_jobs=-1)]: Using backend ThreadingBackend with 8 concurrent workers.\n",
      "[Parallel(n_jobs=-1)]: Done  34 tasks      | elapsed:    0.8s\n",
      "[Parallel(n_jobs=-1)]: Done 100 out of 100 | elapsed:    2.5s finished\n"
     ]
    }
   ],
   "source": [
    "rf1 = rf.fit(features2, stars)"
   ]
  },
  {
   "cell_type": "code",
   "execution_count": 6,
   "metadata": {},
   "outputs": [
    {
     "data": {
      "text/plain": [
       "0.561954085182036"
      ]
     },
     "execution_count": 6,
     "metadata": {},
     "output_type": "execute_result"
    }
   ],
   "source": [
    "rf1.oob_score_"
   ]
  },
  {
   "cell_type": "code",
   "execution_count": 7,
   "metadata": {},
   "outputs": [],
   "source": [
    "feature_importance_dict = dict(zip(data1_.drop(columns=[\"Monday_open\", \"Monday_close\",\"Tuesday_open\", \"Tuesday_close\",\"Wednesday_open\", \n",
    "                                \"Wednesday_close\", \"Thursday_open\", \"Thursday_close\",\"Friday_open\", \"Friday_close\",\n",
    "                                \"Saturday_open\", \"Sunday_open\", \"Saturday_close\", \"Sunday_close\"]).columns, rf1.feature_importances_))"
   ]
  },
  {
   "cell_type": "code",
   "execution_count": 8,
   "metadata": {},
   "outputs": [],
   "source": [
    "feature_importance_ = sorted(feature_importance_dict.items(), key = lambda x: x[1], reverse = True)"
   ]
  },
  {
   "cell_type": "code",
   "execution_count": 9,
   "metadata": {},
   "outputs": [
    {
     "name": "stdout",
     "output_type": "stream",
     "text": [
      "0 ('weekend_close', 0.1152807331040567)\n",
      "1 ('weekday_close', 0.08568989677989108)\n",
      "2 ('weekday_open', 0.06936532089098459)\n",
      "3 ('staff', 0.05037580836077124)\n",
      "4 ('weekend_open', 0.04994744994399824)\n",
      "5 ('price', 0.04646871526112304)\n",
      "6 ('distance', 0.03439155651523866)\n",
      "7 ('clean', 0.02528588314660843)\n",
      "8 ('equipment', 0.024528283777085144)\n",
      "9 ('service', 0.02397029591897405)\n",
      "10 ('membership', 0.021146736102833907)\n",
      "11 ('ByAppointmentOnly', 0.01802992203895171)\n",
      "12 ('class', 0.017881298504557438)\n",
      "13 ('WheelchairAccessible', 0.017494473052449198)\n",
      "14 ('GoodForKids', 0.016947086511671164)\n",
      "15 ('BusinessParking', 0.0160254520895337)\n",
      "16 ('BusinessAcceptsCreditCards', 0.01553564764007219)\n",
      "17 ('time', 0.01504695902195231)\n",
      "18 ('BikeParking', 0.013611892080099027)\n",
      "19 ('is_open', 0.012784339621755108)\n",
      "20 ('room', 0.01262909079828773)\n",
      "21 ('parking', 0.012563002588712003)\n",
      "22 ('crowd', 0.01167843660934747)\n",
      "23 ('trainer', 0.010210543702303822)\n",
      "24 ('pool', 0.008618979128932034)\n",
      "25 ('sign', 0.008577724315451297)\n",
      "26 ('floor', 0.008511680522024494)\n",
      "27 ('contact', 0.008159485316849714)\n",
      "28 ('card', 0.008069268055270723)\n",
      "29 ('open', 0.007996682877486642)\n",
      "30 ('locker', 0.007697624164662495)\n",
      "31 ('contract', 0.007543154895647148)\n",
      "32 ('day', 0.007310482928461406)\n",
      "33 ('counter', 0.006877628061086343)\n",
      "34 ('management', 0.006803522324872229)\n",
      "35 ('kid', 0.006647932468645238)\n",
      "36 ('cardio', 0.006537265171393492)\n",
      "37 ('drink', 0.0065014962742176215)\n",
      "38 ('woman', 0.006371119901456108)\n",
      "39 ('hot', 0.006178394820070036)\n",
      "40 ('atmosphere', 0.006118849385214818)\n",
      "41 ('issue', 0.005960780241545357)\n",
      "42 ('space', 0.005351518403989295)\n",
      "43 ('month', 0.004192853049717426)\n",
      "44 ('wait', 0.0038197102069214093)\n",
      "45 ('family', 0.0037178750127686766)\n",
      "46 ('spa', 0.0036890615231760866)\n",
      "47 ('AC', 0.0034739533917971465)\n",
      "48 ('environment', 0.003323518419104726)\n",
      "49 ('yoga', 0.003218925780434047)\n"
     ]
    }
   ],
   "source": [
    "for i in range(50):\n",
    "    print(i,feature_importance_[i])"
   ]
  },
  {
   "cell_type": "code",
   "execution_count": 10,
   "metadata": {},
   "outputs": [],
   "source": [
    "# 画图前重新读取包含Missing data的数据, 避免分布中包含缺失值\n",
    "data1 = jd.json_to_df_exhaust(\"../raw_data/data1.json\")"
   ]
  },
  {
   "cell_type": "code",
   "execution_count": 11,
   "metadata": {},
   "outputs": [],
   "source": [
    "## 给non_text 画图用\n",
    "def plot_non_text(feature):\n",
    "    (counts, bins, patch) = plt.hist([data1[data1[feature] > 0].stars, data1[data1[feature] <= 0].stars], rwidth = 0.6,\n",
    "             bins=5, histtype=\"barstacked\",edgecolor=\"black\", alpha=0.7, label=[\"positive\", \"negative\"])\n",
    "    plt.legend()\n",
    "    plt.show()\n",
    "    return (counts, bins, patch)"
   ]
  },
  {
   "cell_type": "code",
   "execution_count": 12,
   "metadata": {},
   "outputs": [
    {
     "data": {
      "image/png": "[encoded data removed]",
      "text/plain": [
       "<Figure size 432x288 with 1 Axes>"
      ]
     },
     "metadata": {
      "needs_background": "light"
     },
     "output_type": "display_data"
    }
   ],
   "source": [
    "plt0 = plot_non_text(\"ByAppointmentOnly\")"
   ]
  },
  {
   "cell_type": "code",
   "execution_count": 13,
   "metadata": {},
   "outputs": [
    {
     "data": {
      "text/plain": [
       "[array([ 553.,  259.,  311.,  730., 3779.]),\n",
       " array([ 7452.,  2882.,  3349.,  6432., 18223.])]"
      ]
     },
     "execution_count": 13,
     "metadata": {},
     "output_type": "execute_result"
    }
   ],
   "source": [
    "plt0[0]\n",
    "#一行表示一个group(如positvie)在1-5分中的count"
   ]
  },
  {
   "cell_type": "code",
   "execution_count": 14,
   "metadata": {},
   "outputs": [],
   "source": [
    "## 0表示 “缺失” 时画图用\n",
    "## 0表示 “缺失” 时画图用\n",
    "## 0表示 “缺失” 时画图用\n",
    "\n",
    "##给text features画图用\n",
    "def plot_text(feature):\n",
    "    (counts, bins, patch) = plt.hist([data1[data1[feature] > 0].stars, data1[data1[feature] < 0].stars], rwidth = 0.6,\n",
    "             bins=5, histtype=\"barstacked\",edgecolor=\"black\", alpha=0.7, label=[\"positive\", \"negative\"])\n",
    "    plt.legend()\n",
    "    plt.show()\n",
    "    return (counts, bins, patch)"
   ]
  },
  {
   "cell_type": "code",
   "execution_count": 15,
   "metadata": {},
   "outputs": [
    {
     "data": {
      "image/png": "[encoded data removed]",
      "text/plain": [
       "<Figure size 432x288 with 1 Axes>"
      ]
     },
     "metadata": {
      "needs_background": "light"
     },
     "output_type": "display_data"
    }
   ],
   "source": [
    "plt1 = plot_text(\"staff\")"
   ]
  },
  {
   "cell_type": "code",
   "execution_count": 16,
   "metadata": {},
   "outputs": [
    {
     "data": {
      "text/plain": [
       "[array([1166.,  569.,  758., 1603., 4333.]),\n",
       " array([2095.,  856., 1011., 1881., 4681.])]"
      ]
     },
     "execution_count": 16,
     "metadata": {},
     "output_type": "execute_result"
    }
   ],
   "source": [
    "plt1[0]\n",
    "#一行表示一个group(如positvie)在1-5分中的count"
   ]
  },
  {
   "cell_type": "code",
   "execution_count": 17,
   "metadata": {},
   "outputs": [],
   "source": [
    "#开门时间画图\n",
    "def plot_opentime(feature,time_split):\n",
    "    (counts, bins, patch) = plt.hist([data1[data1[feature] <= time_split[0]].stars, \n",
    "                                      data1[(data1[feature] <= time_split[1])&(data1[feature] > time_split[0])].stars,\n",
    "                                     data1[(data1[feature] <= time_split[2])&(data1[feature] > time_split[1])].stars, \n",
    "                                      data1[data1[feature] > time_split[2]].stars], rwidth = 0.6,\n",
    "             bins=5, histtype=\"barstacked\",edgecolor=\"black\", alpha=0.7, \n",
    "                                     label=[\"earlier than %i o'clock\" %time_split[0], \"earlier than %i o'clock\" %time_split[1],\n",
    "                                            \"earlier than %i o'clock\" %time_split[2], \"later than %i o'clock\" %time_split[2]])\n",
    "    plt.legend()\n",
    "    plt.show()\n",
    "    return (counts, bins, patch)"
   ]
  },
  {
   "cell_type": "code",
   "execution_count": 18,
   "metadata": {},
   "outputs": [
    {
     "data": {
      "image/png": "[encoded data removed]",
      "text/plain": [
       "<Figure size 432x288 with 1 Axes>"
      ]
     },
     "metadata": {
      "needs_background": "light"
     },
     "output_type": "display_data"
    }
   ],
   "source": [
    "plt2 = plot_opentime(\"weekday_open\",[4,8,10])"
   ]
  },
  {
   "cell_type": "code",
   "execution_count": 19,
   "metadata": {},
   "outputs": [
    {
     "data": {
      "text/plain": [
       "[array([3606., 1253., 1502., 2656., 4750.]),\n",
       " array([ 6400.,  2481.,  2867.,  5352., 13498.]),\n",
       " array([ 6797.,  2617.,  3010.,  5692., 14690.]),\n",
       " array([ 7069.,  2731.,  3148.,  6033., 17337.])]"
      ]
     },
     "execution_count": 19,
     "metadata": {},
     "output_type": "execute_result"
    }
   ],
   "source": [
    "plt2[0]\n",
    "#一行表示一个group(如earlier then 6am)在1-5分中的count"
   ]
  },
  {
   "cell_type": "code",
   "execution_count": 20,
   "metadata": {},
   "outputs": [],
   "source": [
    "#开门时间画图\n",
    "def plot_closetime(feature,time_split):\n",
    "    (counts, bins, patch) = plt.hist([data1[data1[feature] <= time_split[0]].stars, \n",
    "                                      data1[(data1[feature] <= time_split[1])&(data1[feature] > time_split[0])].stars,\n",
    "                                     data1[(data1[feature] <= time_split[2])&(data1[feature] > time_split[1])].stars, \n",
    "                                      data1[data1[feature] > time_split[2]].stars], rwidth = 0.6,\n",
    "             bins=5, histtype=\"barstacked\",edgecolor=\"black\", alpha=0.7, \n",
    "                                     label=[\"earlier than %i o'clock\" %time_split[0], \"earlier than %i o'clock\" %time_split[1],\n",
    "                                            \"earlier than %i o'clock\" %time_split[2], \"later than %i o'clock\" %time_split[2]])\n",
    "    plt.legend()\n",
    "    plt.show()\n",
    "    return (counts, bins, patch)"
   ]
  },
  {
   "cell_type": "code",
   "execution_count": 21,
   "metadata": {},
   "outputs": [
    {
     "data": {
      "image/png": "[encoded data removed]",
      "text/plain": [
       "<Figure size 432x288 with 1 Axes>"
      ]
     },
     "metadata": {
      "needs_background": "light"
     },
     "output_type": "display_data"
    }
   ],
   "source": [
    "plt3 = plot_closetime(\"weekday_close\",[14,18,22])"
   ]
  },
  {
   "cell_type": "code",
   "execution_count": 22,
   "metadata": {},
   "outputs": [
    {
     "data": {
      "text/plain": [
       "[array([758., 312., 355., 562., 780.]),\n",
       " array([ 984.,  440.,  529.,  946., 2692.]),\n",
       " array([ 2656.,  1140.,  1332.,  2806., 11755.]),\n",
       " array([ 7069.,  2731.,  3148.,  6033., 17337.])]"
      ]
     },
     "execution_count": 22,
     "metadata": {},
     "output_type": "execute_result"
    }
   ],
   "source": [
    "plt3[0]\n",
    "#一行表示一个group(如earlier then 6pm)在1-5分中的count"
   ]
  }
 ],
 "metadata": {
  "kernelspec": {
   "display_name": "Python 3",
   "language": "python",
   "name": "python3"
  },
  "language_info": {
   "codemirror_mode": {
    "name": "ipython",
    "version": 3
   },
   "file_extension": ".py",
   "mimetype": "text/x-python",
   "name": "python",
   "nbconvert_exporter": "python",
   "pygments_lexer": "ipython3",
   "version": "3.7.3"
  }
 },
 "nbformat": 4,
 "nbformat_minor": 2
}
