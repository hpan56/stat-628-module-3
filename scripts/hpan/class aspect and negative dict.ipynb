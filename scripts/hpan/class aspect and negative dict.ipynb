{
 "cells": [
  {
   "cell_type": "code",
   "execution_count": 112,
   "metadata": {},
   "outputs": [],
   "source": [
    "class aspect(str):\n",
    "    \n",
    "    \n",
    "    def __init__(self, keyword, aspect=None, po_ne=None, grade=None, level=None, adverb=None):\n",
    "        self.keyword = keyword\n",
    "        self.aspect, self.po_ne, self.grade, self.level, self.adverb = aspect, po_ne, grade, level, adverb\n",
    "        self.words = []\n",
    "        \n",
    "        \n",
    "    def f_grade(self):\n",
    "        assert self.po_ne != None, \"Whether the sentence contains negative words such as not, seldom is not assigned.\"\n",
    "        assert self.grade != None, \"The grade for this aspect is not assigned.\"\n",
    "        return self.grade * self.po_ne\n",
    "    \n",
    "    \n",
    "    def put_words(self, word):\n",
    "        self.words.append(word)\n",
    "        \n",
    "    \n",
    "    def get_words(self):\n",
    "        return self.words\n",
    "    "
   ]
  },
  {
   "cell_type": "code",
   "execution_count": 102,
   "metadata": {},
   "outputs": [
    {
     "data": {
      "text/plain": [
       "'clean'"
      ]
     },
     "execution_count": 102,
     "metadata": {},
     "output_type": "execute_result"
    }
   ],
   "source": [
    "nagetive_wrods = [\"no\", \"n't\", \"never\", \"neither\", \"nor\", \"nobody\", \"none\", \"nothing\", \"noone\", \"not\", \"nowhere\", \"n’t\",\n",
    "                    \"n‘t\", \"hardly\", \"barely\", \"scarcely\", \"rarely\", \"seldom\", \"little\", \"few\"]\n",
    "## few little 是形容词"
   ]
  },
  {
   "cell_type": "code",
   "execution_count": 119,
   "metadata": {},
   "outputs": [],
   "source": [
    "example = \"clean\"\n",
    "example = aspect(example)"
   ]
  },
  {
   "cell_type": "code",
   "execution_count": 120,
   "metadata": {},
   "outputs": [
    {
     "data": {
      "text/plain": [
       "1"
      ]
     },
     "execution_count": 120,
     "metadata": {},
     "output_type": "execute_result"
    }
   ],
   "source": [
    "example.aspect = \"clean\"\n",
    "example.po_ne = 1\n",
    "example.grade = 1\n",
    "example.adverb = \"very\"\n",
    "example.f_grade()"
   ]
  },
  {
   "cell_type": "code",
   "execution_count": 121,
   "metadata": {},
   "outputs": [
    {
     "data": {
      "text/plain": [
       "'clean'"
      ]
     },
     "execution_count": 121,
     "metadata": {},
     "output_type": "execute_result"
    }
   ],
   "source": [
    "example.aspect"
   ]
  },
  {
   "cell_type": "code",
   "execution_count": 122,
   "metadata": {},
   "outputs": [
    {
     "data": {
      "text/plain": [
       "1"
      ]
     },
     "execution_count": 122,
     "metadata": {},
     "output_type": "execute_result"
    }
   ],
   "source": [
    "example.po_ne "
   ]
  },
  {
   "cell_type": "code",
   "execution_count": 123,
   "metadata": {},
   "outputs": [
    {
     "data": {
      "text/plain": [
       "1"
      ]
     },
     "execution_count": 123,
     "metadata": {},
     "output_type": "execute_result"
    }
   ],
   "source": [
    "example.grade "
   ]
  },
  {
   "cell_type": "code",
   "execution_count": 117,
   "metadata": {},
   "outputs": [
    {
     "data": {
      "text/plain": [
       "'very'"
      ]
     },
     "execution_count": 117,
     "metadata": {},
     "output_type": "execute_result"
    }
   ],
   "source": [
    "example.adverb"
   ]
  },
  {
   "cell_type": "code",
   "execution_count": 114,
   "metadata": {},
   "outputs": [],
   "source": [
    "example.put_words(\"bb\")\n",
    "example.put_words(\"aa\")"
   ]
  },
  {
   "cell_type": "code",
   "execution_count": 115,
   "metadata": {},
   "outputs": [
    {
     "data": {
      "text/plain": [
       "['bb', 'aa']"
      ]
     },
     "execution_count": 115,
     "metadata": {},
     "output_type": "execute_result"
    }
   ],
   "source": [
    "example.get_words()"
   ]
  }
 ],
 "metadata": {
  "kernelspec": {
   "display_name": "Python 3",
   "language": "python",
   "name": "python3"
  },
  "language_info": {
   "codemirror_mode": {
    "name": "ipython",
    "version": 3
   },
   "file_extension": ".py",
   "mimetype": "text/x-python",
   "name": "python",
   "nbconvert_exporter": "python",
   "pygments_lexer": "ipython3",
   "version": "3.7.3"
  }
 },
 "nbformat": 4,
 "nbformat_minor": 2
}
