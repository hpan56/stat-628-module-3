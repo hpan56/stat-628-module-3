{
 "cells": [
  {
   "cell_type": "markdown",
   "metadata": {},
   "source": [
    "# Introduction and Description"
   ]
  },
  {
   "cell_type": "markdown",
   "metadata": {},
   "source": [
    "Keeping fit is becoming increasingly popular, so as its related business -- gymastics. In order to give some suggestions to gyms' owners to increase their ratings on Yelp, we use Yelp datasest and started a model to interpret the relation between businesses' ratings and their attributes. We use our model to give suggestions to gyms' owners in two aspects: First, overall suggestion to all gyms according to the whole dataset analysis. Second, the specific suggestion to a specific gym (and its owner) according to its reviews."
   ]
  },
  {
   "cell_type": "markdown",
   "metadata": {},
   "source": [
    "# Data Preprocessing"
   ]
  },
  {
   "cell_type": "markdown",
   "metadata": {},
   "source": [
    "First we combined our data and arrange them to make them simple and clear. In this step we merge \"review\", \"business\" and \"user\" sets with review_id, business_id and user_id, leaving \"tips\" not used. Then we deal with text and non-text features."
   ]
  },
  {
   "cell_type": "markdown",
   "metadata": {},
   "source": [
    "## Text Processing"
   ]
  },
  {
   "cell_type": "markdown",
   "metadata": {},
   "source": [
    "ASD"
   ]
  },
  {
   "cell_type": "markdown",
   "metadata": {},
   "source": [
    "## Non-Text Processing"
   ]
  },
  {
   "cell_type": "markdown",
   "metadata": {},
   "source": [
    "There are a few types of non-text features. We deleted useless features (e.g. latitude and longitude). For some similar features we summed them up and merged them to a new feature (e.g. review's useful/cool/funny -> new_useful). Complex features are transformed to a suitable form (e.g. \"friends\" were transformed from a list to friend number). Finally we extracted the features in \"attribute\" and transformed them properly (e.g. GoodForKids T/F-> 0/1 feature)."
   ]
  },
  {
   "cell_type": "markdown",
   "metadata": {},
   "source": [
    "After data preprocessing, we have four types of features: Information, record the information of review, business or user; Variables, which are used as variables in our model; Weights, which are used as weights in our model; Star (rating), as our model's response."
   ]
  },
  {
   "cell_type": "markdown",
   "metadata": {},
   "source": [
    "# Modeling"
   ]
  },
  {
   "cell_type": "markdown",
   "metadata": {},
   "source": []
  },
  {
   "cell_type": "markdown",
   "metadata": {},
   "source": [
    "# Conclusion and findings"
   ]
  },
  {
   "cell_type": "markdown",
   "metadata": {},
   "source": [
    "SD"
   ]
  },
  {
   "cell_type": "markdown",
   "metadata": {},
   "source": [
    "*Some pictures and statistical results.*"
   ]
  },
  {
   "cell_type": "markdown",
   "metadata": {},
   "source": [
    "###### ##### ########## ############## ############ ############### ##### ########### ###########\n",
    "### 下面是要求"
   ]
  },
  {
   "cell_type": "markdown",
   "metadata": {},
   "source": [
    "Executive Summary with the Jupyter Notebook\n",
    "The goal of the “executive” summary of your data analysis is to provide a concise, replicable, and clear description of your statistical analysis and findings. In particular, the summary must include (i) your overall findings, (ii) relevant and important evidence for your findings (e.g. plots, tables), and (iii) important details of your statistical analysis (e.g. type of model used, inferential quantities, outliers, leverage points, modeling assumptions, etc.). Your summary should be detailed enough that any data scientist can read your summary and replicate your analysis. Your summary must include all relevant figures/tables, equations, and references and must be done using the Jupyter Notebook.\n",
    " \n",
    "All members of the group must contribute to the executive summary. On the summary, the group must clearly indicate each member’s contribution to the project, including each member’s contribution to the presentation, code, and the image files. The final summary should not exceed more than 6 pdf pages."
   ]
  }
 ],
 "metadata": {
  "kernelspec": {
   "display_name": "Python 3",
   "language": "python",
   "name": "python3"
  },
  "language_info": {
   "codemirror_mode": {
    "name": "ipython",
    "version": 3
   },
   "file_extension": ".py",
   "mimetype": "text/x-python",
   "name": "python",
   "nbconvert_exporter": "python",
   "pygments_lexer": "ipython3",
   "version": "3.7.3"
  }
 },
 "nbformat": 4,
 "nbformat_minor": 2
}
